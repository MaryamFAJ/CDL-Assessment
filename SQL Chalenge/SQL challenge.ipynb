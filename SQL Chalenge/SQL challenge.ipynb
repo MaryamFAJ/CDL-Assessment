{
 "cells": [
  {
   "cell_type": "code",
   "execution_count": null,
   "metadata": {},
   "outputs": [],
   "source": []
  },
  {
   "attachments": {},
   "cell_type": "markdown",
   "metadata": {},
   "source": [
    "### SQL challenge"
   ]
  },
  {
   "attachments": {},
   "cell_type": "markdown",
   "metadata": {},
   "source": [
    "Question: On which day of the week do we on average have the longest trip?"
   ]
  },
  {
   "cell_type": "code",
   "execution_count": null,
   "metadata": {
    "vscode": {
     "languageId": "sql"
    }
   },
   "outputs": [],
   "source": [
    "-- Method 1\n",
    "\n",
    "SELECT STRFTIME('%w', date(SUBSTR(start_time , 1, 10))) AS day_of_week, AVG(duration_minutes) AS avg_trip_duration\n",
    "FROM mytable\n",
    "GROUP BY day_of_week\n",
    "ORDER BY avg_trip_duration DESC\n",
    "LIMIT 1;\n",
    "\n"
   ]
  },
  {
   "attachments": {},
   "cell_type": "markdown",
   "metadata": {},
   "source": [
    "Answer:   Sunday with the average of 79.10338517840805"
   ]
  },
  {
   "attachments": {},
   "cell_type": "markdown",
   "metadata": {},
   "source": [
    "Question 2: What month/year has the most bike trips and what is the count of the trips? "
   ]
  },
  {
   "cell_type": "code",
   "execution_count": null,
   "metadata": {
    "vscode": {
     "languageId": "sql"
    }
   },
   "outputs": [],
   "source": [
    "SELECT  STRFTIME('%m', date(SUBSTR(start_time , 1, 10))) AS month,STRFTIME('%Y', date(SUBSTR(start_time , 1, 10))) AS year, COUNT(*) AS trip_count\n",
    "FROM mytable\n",
    "GROUP BY month, year\n",
    "ORDER BY trip_count DESC\n",
    "LIMIT 1;"
   ]
  },
  {
   "attachments": {},
   "cell_type": "markdown",
   "metadata": {},
   "source": [
    "Answer: September for month, 2020 for year with total count of 530 trips"
   ]
  },
  {
   "attachments": {},
   "cell_type": "markdown",
   "metadata": {},
   "source": [
    "Question 3 :In the same table, return which particular trip has longest duration and the trip that has the shortest duration (return all the information(columns) on the table for this record) \n",
    "\n",
    "If more than 1 record has the same duration, return the earliest trip [start time] . NB: Exclude 'Missing' and 'Stolen' as values in the end_station_name column. \n",
    "\n",
    "Exclude trips that start and end at the same station. "
   ]
  },
  {
   "cell_type": "code",
   "execution_count": null,
   "metadata": {
    "vscode": {
     "languageId": "sql"
    }
   },
   "outputs": [],
   "source": [
    "SELECT *\n",
    "FROM mytable\n",
    "WHERE end_station_name NOT IN ('Missing', 'Stolen')\n",
    "  AND start_station_id != end_station_id\n",
    "  AND duration_minutes = (SELECT MAX(duration_minutes) FROM mytable)\n",
    "UNION ALL\n",
    "SELECT *\n",
    "FROM mytable\n",
    "WHERE end_station_name NOT IN ('Missing', 'Stolen')\n",
    "  AND start_station_id != end_station_id\n",
    "  AND duration_minutes = (SELECT MIN(duration_minutes) FROM mytable)\n",
    "ORDER BY start_time ASC\n",
    "LIMIT 2;"
   ]
  },
  {
   "attachments": {},
   "cell_type": "markdown",
   "metadata": {},
   "source": [
    " The query returned a row because the minimum duration_minutes is 1 and all rows with this value had the same start_station_id and end_station_id which we've filtered out"
   ]
  }
 ],
 "metadata": {
  "language_info": {
   "name": "python"
  },
  "orig_nbformat": 4
 },
 "nbformat": 4,
 "nbformat_minor": 2
}
